{
 "cells": [
  {
   "cell_type": "markdown",
   "metadata": {},
   "source": [
    "# Statistical Modeling"
   ]
  },
  {
   "cell_type": "markdown",
   "metadata": {
    "collapsed": true
   },
   "source": [
    "Explanatory vairables\n",
    "x1, x2, ... xn\n",
    "\n",
    "--->\n",
    "\n",
    "Model with params\n",
    "Θ1, Θ2, ... Θm\n",
    "\n",
    "---->\n",
    "\n",
    "Predicted response variable\n",
    "y(x1, x2, ... xn | Θ1, Θ2, ... Θm)\n",
    "___________________________________\n",
    "\n",
    "Observed response variable\n",
    "y obs\n",
    "\n",
    "---->\n",
    "\n",
    "Best-fit model\n",
    "( with params\n",
    "Θ1^fit, Θ2^fit, ... Θm^fit)\n",
    "\n",
    "Minimize difference for all observed\n",
    "cases over model params\n",
    "\n",
    "\n",
    "Uses for models:\n",
    "\n",
    "- Reveals faxts and trends about population\n",
    "\n",
    "- predict future behavior"
   ]
  }
 ],
 "metadata": {
  "kernelspec": {
   "display_name": "Python 3",
   "language": "python",
   "name": "python3"
  },
  "language_info": {
   "codemirror_mode": {
    "name": "ipython",
    "version": 3
   },
   "file_extension": ".py",
   "mimetype": "text/x-python",
   "name": "python",
   "nbconvert_exporter": "python",
   "pygments_lexer": "ipython3",
   "version": "3.6.3"
  }
 },
 "nbformat": 4,
 "nbformat_minor": 2
}
