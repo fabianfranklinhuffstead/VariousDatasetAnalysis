{
 "cells": [
  {
   "cell_type": "markdown",
   "metadata": {},
   "source": [
    "# Statistical Modeling"
   ]
  },
  {
   "cell_type": "code",
   "execution_count": 1,
   "metadata": {
    "collapsed": true
   },
   "outputs": [],
   "source": [
    "import math"
   ]
  },
  {
   "cell_type": "code",
   "execution_count": 2,
   "metadata": {
    "collapsed": true
   },
   "outputs": [],
   "source": [
    "import numpy as np\n",
    "import pandas as pd"
   ]
  },
  {
   "cell_type": "code",
   "execution_count": 3,
   "metadata": {
    "collapsed": true
   },
   "outputs": [],
   "source": [
    "import matplotlib\n",
    "import matplotlib.pyplot as pp"
   ]
  },
  {
   "cell_type": "code",
   "execution_count": 4,
   "metadata": {
    "collapsed": true
   },
   "outputs": [],
   "source": [
    "%matplotlib inline"
   ]
  },
  {
   "cell_type": "code",
   "execution_count": 5,
   "metadata": {},
   "outputs": [
    {
     "name": "stderr",
     "output_type": "stream",
     "text": [
      "/Users/fabian/anaconda3/lib/python3.6/site-packages/statsmodels/compat/pandas.py:56: FutureWarning: The pandas.core.datetools module is deprecated and will be removed in a future version. Please use the pandas.tseries module instead.\n",
      "  from pandas.core import datetools\n"
     ]
    }
   ],
   "source": [
    "import statsmodels\n",
    "import statsmodels.api as am\n",
    "import statsmodels.formula.api as smf"
   ]
  },
  {
   "cell_type": "code",
   "execution_count": 6,
   "metadata": {
    "collapsed": true
   },
   "outputs": [],
   "source": [
    "gapminder = pd.read_csv('05_04/gapminder.csv')"
   ]
  },
  {
   "cell_type": "code",
   "execution_count": 7,
   "metadata": {
    "collapsed": true
   },
   "outputs": [],
   "source": [
    "gdata = gapminder.query('year == 1985')"
   ]
  },
  {
   "cell_type": "markdown",
   "metadata": {},
   "source": [
    "### Cross Validation"
   ]
  },
  {
   "cell_type": "markdown",
   "metadata": {},
   "source": [
    "Dataset\n",
    "\n",
    "\n",
    "<i>(This dataset is split into a training set and a testing set)</i>\n",
    "\n",
    "[Training data(0),(1)] [Testing data(2)]\n",
    "\n",
    "\n",
    "[(0)In-sample prediction error][(1)Fitted Model][(2)Out-of-sample prediction error]\n",
    "\n",
    "\n",
    "This is an attempt of visual representation of cross validation. Where we have two data sets one which is in sample and the other which is out  sample we test for a fit model. The example below will cover this more in depth."
   ]
  },
  {
   "cell_type": "code",
   "execution_count": 8,
   "metadata": {
    "collapsed": true
   },
   "outputs": [],
   "source": [
    "def sc(data):\n",
    "    return 1e-6 * data.population, data.region.map({'Africa': 'skyblue', 'Europe':'gold', 'America':'palegreen', 'Asia':'coral'})\n",
    "\n",
    "def plotdata(data=gdata):\n",
    "    size, colors = sc(data)\n",
    "    data.plot.scatter('age5_surviving', 'babies_per_woman', c=colors, s=size, linewidths=0.5, edgecolor='k', alpha=0.5)\n",
    "\n",
    "def plotfit(fit, data=gdata):\n",
    "    plotdata(data)\n",
    "    \n",
    "    size, colors = sc(data)\n",
    "    pp.scatter(data.age5_surviving, fit.predict(data), c=colors, s=30, linewidths=0.5, edgecolor='k', marker='D')"
   ]
  },
  {
   "cell_type": "code",
   "execution_count": 9,
   "metadata": {
    "collapsed": true
   },
   "outputs": [],
   "source": [
    "f_groupmeans = 'babies_per_woman ~ -1 + region'\n",
    "f_surviving = 'babies_per_woman ~ -1 + region + age5_surviving'\n",
    "f_srp = ('babies_per_woman ~ -1 + region + age5_surviving + age5_surviving:region - age5_surviving + population')\n"
   ]
  },
  {
   "cell_type": "code",
   "execution_count": 10,
   "metadata": {
    "collapsed": true
   },
   "outputs": [],
   "source": [
    "shuffled = gdata.sample(len(gdata)) # This simply shuffles our dataset"
   ]
  },
  {
   "cell_type": "code",
   "execution_count": 11,
   "metadata": {
    "collapsed": true
   },
   "outputs": [],
   "source": [
    "training, testing = shuffled.iloc[:len(gdata)//2], shuffled.iloc[len(gdata)//2:]"
   ]
  },
  {
   "cell_type": "code",
   "execution_count": 12,
   "metadata": {
    "collapsed": true
   },
   "outputs": [],
   "source": [
    "surviving = smf.ols(f_surviving, data=training).fit()\n",
    "\n",
    "# We now fit a model to training data, using one of our formulas"
   ]
  },
  {
   "cell_type": "code",
   "execution_count": 13,
   "metadata": {},
   "outputs": [
    {
     "data": {
      "image/png": "[encoded data removed]",
      "text/plain": [
       "<matplotlib.figure.Figure at 0x1137422b0>"
      ]
     },
     "metadata": {},
     "output_type": "display_data"
    }
   ],
   "source": [
    "plotfit(surviving, training) # The result"
   ]
  },
  {
   "cell_type": "code",
   "execution_count": 14,
   "metadata": {},
   "outputs": [
    {
     "data": {
      "text/plain": [
       "1.0223171505822422"
      ]
     },
     "execution_count": 14,
     "metadata": {},
     "output_type": "execute_result"
    }
   ],
   "source": [
    "surviving.mse_resid"
   ]
  },
  {
   "cell_type": "code",
   "execution_count": 15,
   "metadata": {},
   "outputs": [
    {
     "data": {
      "image/png": "[encoded data removed]",
      "text/plain": [
       "<matplotlib.figure.Figure at 0x10e8f7b38>"
      ]
     },
     "metadata": {},
     "output_type": "display_data"
    }
   ],
   "source": [
    "plotfit(surviving, testing)"
   ]
  },
  {
   "cell_type": "code",
   "execution_count": 16,
   "metadata": {},
   "outputs": [
    {
     "data": {
      "text/plain": [
       "0.9654165393741404"
      ]
     },
     "execution_count": 16,
     "metadata": {},
     "output_type": "execute_result"
    }
   ],
   "source": [
    "resid = surviving.predict(testing) - testing.babies_per_woman\n",
    "df = len(testing) - surviving.df_model -1\n",
    "np.sum(resid**2) /df"
   ]
  },
  {
   "cell_type": "code",
   "execution_count": 17,
   "metadata": {
    "collapsed": true
   },
   "outputs": [],
   "source": [
    "def cross_validate(data, formula, response, n=100):\n",
    "    ret = []\n",
    "    \n",
    "    for i in range(n):\n",
    "        shuffled = data.sample(len(data))\n",
    "        \n",
    "        training, testing = shuffled.iloc[:len(data)//2], shuffled.iloc[len(data)//2:]\n",
    "        \n",
    "        trained = smf.ols(formula, data=training).fit()\n",
    "        \n",
    "        resid = trained.predict(testing) - testing[response]\n",
    "        df = len(testing) - trained.df_model - 1\n",
    "        mse = np.sum(resid**2) / df\n",
    "        \n",
    "        ret.append(mse)\n",
    "        \n",
    "    return np.mean(ret)"
   ]
  },
  {
   "cell_type": "code",
   "execution_count": 18,
   "metadata": {},
   "outputs": [
    {
     "data": {
      "text/plain": [
       "1.6355739603567421"
      ]
     },
     "execution_count": 18,
     "metadata": {},
     "output_type": "execute_result"
    }
   ],
   "source": [
    "cross_validate(gdata, f_groupmeans, 'babies_per_woman')"
   ]
  },
  {
   "cell_type": "code",
   "execution_count": 19,
   "metadata": {},
   "outputs": [
    {
     "data": {
      "text/plain": [
       "1.0941002580701678"
      ]
     },
     "execution_count": 19,
     "metadata": {},
     "output_type": "execute_result"
    }
   ],
   "source": [
    "cross_validate(gdata, f_surviving, 'babies_per_woman')"
   ]
  },
  {
   "cell_type": "code",
   "execution_count": 20,
   "metadata": {},
   "outputs": [
    {
     "data": {
      "text/plain": [
       "1.1470676649119458"
      ]
     },
     "execution_count": 20,
     "metadata": {},
     "output_type": "execute_result"
    }
   ],
   "source": [
    "cross_validate(gdata, f_srp, 'babies_per_woman')"
   ]
  },
  {
   "cell_type": "markdown",
   "metadata": {},
   "source": [
    "Cross validation confirms the verdict of analytical goodness of fit measures. The model of intermediate complexity seems to hit the sweet spot in terms of explanatory power. \n",
    "\n",
    "In theory of all data analysts use k fold cross validation instead of dividing the data in two we divide it in k subsets, and then in k successive trials we hold out one of the subsets for testing and trains on all the rest. Finally, the k resulting models are averaged. K fall cross validation is supported in the Python package scikit-learn."
   ]
  }
 ],
 "metadata": {
  "kernelspec": {
   "display_name": "Python 3",
   "language": "python",
   "name": "python3"
  },
  "language_info": {
   "codemirror_mode": {
    "name": "ipython",
    "version": 3
   },
   "file_extension": ".py",
   "mimetype": "text/x-python",
   "name": "python",
   "nbconvert_exporter": "python",
   "pygments_lexer": "ipython3",
   "version": "3.6.3"
  }
 },
 "nbformat": 4,
 "nbformat_minor": 2
}
