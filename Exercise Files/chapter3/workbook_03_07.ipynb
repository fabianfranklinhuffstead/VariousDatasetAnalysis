{
 "cells": [
  {
   "cell_type": "code",
   "execution_count": 1,
   "metadata": {
    "collapsed": true
   },
   "outputs": [],
   "source": [
    "import numpy as np\n",
    "import scipy.stats\n",
    "import pandas as pd"
   ]
  },
  {
   "cell_type": "code",
   "execution_count": 2,
   "metadata": {
    "collapsed": true
   },
   "outputs": [],
   "source": [
    "import matplotlib\n",
    "import matplotlib.pyplot as pp\n",
    "\n",
    "import pandas.plotting\n",
    "\n",
    "from IPython import display\n",
    "from ipywidgets import interact, widgets\n",
    "\n",
    "%matplotlib inline"
   ]
  },
  {
   "cell_type": "code",
   "execution_count": 3,
   "metadata": {
    "collapsed": true
   },
   "outputs": [],
   "source": [
    "import re\n",
    "import mailbox\n",
    "import csv"
   ]
  },
  {
   "cell_type": "code",
   "execution_count": 4,
   "metadata": {
    "collapsed": true
   },
   "outputs": [],
   "source": [
    "smoking = pd.read_csv('03_07/whickham.csv')"
   ]
  },
  {
   "cell_type": "code",
   "execution_count": 5,
   "metadata": {
    "collapsed": true
   },
   "outputs": [],
   "source": [
    "smoking['ageGroup'] = pd.cut(smoking.age,[0,30,40,53,64], labels=['0-30', '30-40', '40-53', '53-64'])"
   ]
  },
  {
   "cell_type": "code",
   "execution_count": 6,
   "metadata": {
    "collapsed": true
   },
   "outputs": [],
   "source": [
    "bysmoker = smoking.groupby(\"smoker\").outcome.value_counts(normalize=True)"
   ]
  },
  {
   "cell_type": "code",
   "execution_count": 7,
   "metadata": {
    "collapsed": true
   },
   "outputs": [],
   "source": [
    "byage = smoking.groupby(['ageGroup', 'smoker']).outcome.value_counts(normalize=True)"
   ]
  },
  {
   "cell_type": "code",
   "execution_count": 8,
   "metadata": {},
   "outputs": [
    {
     "data": {
      "text/plain": [
       "smoker  outcome\n",
       "No      Alive      0.685792\n",
       "        Dead       0.314208\n",
       "Yes     Alive      0.761168\n",
       "        Dead       0.238832\n",
       "Name: outcome, dtype: float64"
      ]
     },
     "execution_count": 8,
     "metadata": {},
     "output_type": "execute_result"
    }
   ],
   "source": [
    "bysmoker"
   ]
  },
  {
   "cell_type": "code",
   "execution_count": 9,
   "metadata": {},
   "outputs": [
    {
     "data": {
      "text/plain": [
       "ageGroup  smoker  outcome\n",
       "0-30      No      Alive      0.981818\n",
       "                  Dead       0.018182\n",
       "          Yes     Alive      0.975610\n",
       "                  Dead       0.024390\n",
       "30-40     No      Alive      0.955224\n",
       "                  Dead       0.044776\n",
       "          Yes     Alive      0.940678\n",
       "                  Dead       0.059322\n",
       "40-53     No      Alive      0.876106\n",
       "                  Dead       0.123894\n",
       "          Yes     Alive      0.802395\n",
       "                  Dead       0.197605\n",
       "53-64     No      Alive      0.669291\n",
       "                  Dead       0.330709\n",
       "          Yes     Alive      0.580645\n",
       "                  Dead       0.419355\n",
       "Name: outcome, dtype: float64"
      ]
     },
     "execution_count": 9,
     "metadata": {},
     "output_type": "execute_result"
    }
   ],
   "source": [
    "byage"
   ]
  },
  {
   "cell_type": "code",
   "execution_count": 31,
   "metadata": {},
   "outputs": [
    {
     "data": {
      "text/plain": [
       "Text(0.5,1,'smoker')"
      ]
     },
     "execution_count": 31,
     "metadata": {},
     "output_type": "execute_result"
    },
    {
     "data": {
      "image/png": "[encoded data removed]",
      "text/plain": [
       "<matplotlib.figure.Figure at 0x1a20ba7630>"
      ]
     },
     "metadata": {},
     "output_type": "display_data"
    }
   ],
   "source": [
    "pp.figure(figsize=(10,4))\n",
    "pp.subplot(1,2,1); smoking.outcome.value_counts().plot(kind='barh', color=['C0','C1']); pp.title('outcome')\n",
    "pp.subplot(1,2,2); smoking.smoker.value_counts().plot(kind='barh',  color=['C2','C3']); pp.title('smoker')"
   ]
  },
  {
   "cell_type": "code",
   "execution_count": null,
   "metadata": {
    "collapsed": true
   },
   "outputs": [],
   "source": []
  }
 ],
 "metadata": {
  "kernelspec": {
   "display_name": "Python 3",
   "language": "python",
   "name": "python3"
  },
  "language_info": {
   "codemirror_mode": {
    "name": "ipython",
    "version": 3
   },
   "file_extension": ".py",
   "mimetype": "text/x-python",
   "name": "python",
   "nbconvert_exporter": "python",
   "pygments_lexer": "ipython3",
   "version": "3.6.3"
  }
 },
 "nbformat": 4,
 "nbformat_minor": 2
}
