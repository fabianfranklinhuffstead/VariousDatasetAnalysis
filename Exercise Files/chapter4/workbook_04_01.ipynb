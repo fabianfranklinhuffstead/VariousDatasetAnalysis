{
 "cells": [
  {
   "cell_type": "markdown",
   "metadata": {},
   "source": [
    "# Workbok_04_01\n",
    "\n",
    "Statistical inference describes the process of drawing conclusions \n",
    "from data and of understanding the confidence we may have in \n",
    "those conclusions. In chapter three we discussed many ways to \n",
    "describe the variation in variables using both descriptive \n",
    "statistics and many kinds of plots. In this chapter we worry \n",
    "about the uncertainty in our statements about variation. \n",
    "The uncertainty arises because we can only study a limited \n",
    "sample of the population that we really want to find about.\n",
    "For instance, we may wonder about all the extra solar \n",
    "planets in our galaxy. But we can only compute statistics \n",
    "for those that we have observed through telescopes. \n",
    "In this chapter I will show you how simple mathematics and \n",
    "computer simulations can be used to understand the randomness \n",
    "due to limited samples. \n",
    "\n",
    "A separate issue is whether the sample is representative of a \n",
    "population. For instance, it is much easier to detect \n",
    "large extra solar planets, so large planets would be \n",
    "over-represented in our sample and skew the resulting population \n",
    "statistics.\n",
    "\n",
    "This selection effects can be addressed mathematically or by \n",
    "improving our data taking. Both topics are outside the scope of \n",
    "this course, but you can find lots of about them in \n",
    "statistics text books, so let's get started.\n"
   ]
  }
 ],
 "metadata": {
  "kernelspec": {
   "display_name": "Python 3",
   "language": "python",
   "name": "python3"
  },
  "language_info": {
   "codemirror_mode": {
    "name": "ipython",
    "version": 3
   },
   "file_extension": ".py",
   "mimetype": "text/x-python",
   "name": "python",
   "nbconvert_exporter": "python",
   "pygments_lexer": "ipython3",
   "version": "3.6.3"
  }
 },
 "nbformat": 4,
 "nbformat_minor": 2
}
